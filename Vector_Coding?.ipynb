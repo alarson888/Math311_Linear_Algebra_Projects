{
  "nbformat": 4,
  "nbformat_minor": 0,
  "metadata": {
    "colab": {
      "provenance": [],
      "authorship_tag": "ABX9TyOP6lizV37Bep408Ly21wyl",
      "include_colab_link": true
    },
    "kernelspec": {
      "name": "python3",
      "display_name": "Python 3"
    },
    "language_info": {
      "name": "python"
    }
  },
  "cells": [
    {
      "cell_type": "markdown",
      "metadata": {
        "id": "view-in-github",
        "colab_type": "text"
      },
      "source": [
        "<a href=\"https://colab.research.google.com/github/alarson888/Math311_Linear_Algebra_Projects/blob/main/Vector_Coding%3F.ipynb\" target=\"_parent\"><img src=\"https://colab.research.google.com/assets/colab-badge.svg\" alt=\"Open In Colab\"/></a>"
      ]
    },
    {
      "cell_type": "markdown",
      "source": [
        "# Finding Orthogonormal vectors using the Gram Schmidt Orthonormalization Process\n",
        "\n",
        "Starting with the vectors:\n",
        "\n",
        "$$ r_1=\\left(\\begin{array}{c} 3 \\\\ 0 \\\\ 3 \\\\ 0 \\\\ \\end{array}    \\right)\n",
        "r_2=\\left(\\begin{array}{c} 3 \\\\ 2 \\\\ 3 \\\\ 3 \\\\ \\end{array}    \\right)\n",
        "r_3=\\left(\\begin{array}{c} -7 \\\\ -4 \\\\ -5 \\\\ -6 \\\\ \\end{array}    \\right)\n",
        "r_4=\\left(\\begin{array}{c} -7 \\\\ -3 \\\\ -11 \\\\ 2 \\\\ \\end{array}    \\right) $$"
      ],
      "metadata": {
        "id": "vJkgf1UYyp5v"
      }
    },
    {
      "cell_type": "code",
      "execution_count": 1,
      "metadata": {
        "id": "_ra1hLAKyi5V"
      },
      "outputs": [],
      "source": [
        "import numpy as np"
      ]
    },
    {
      "cell_type": "code",
      "source": [
        "# this is a commen!\n",
        "# Let's create a vector:\n",
        "v=np.array([1,2,3,4])\n",
        "v2=np.array([0,0,1,0])\n",
        "v\n",
        "# We have dot products:\n",
        "v.dot(v2)\n",
        "# Find the size or magnitude of a vector:\n",
        "v.size\n",
        "#this doesn't work... but we can find it:\n",
        "# We can use v.dot(v) and then take the square root:\n",
        "# We need a square root:\n",
        "np.sqrt(9)\n",
        "\n",
        "#Magnitude:\n",
        "np.sqrt(v.dot(v))\n",
        "\n",
        "#linear combinations:\n",
        "# 2*v+3*v2\n",
        "2*v+3*v2\n",
        "\n",
        "np.lingalg.norm(v)"
      ],
      "metadata": {
        "colab": {
          "base_uri": "https://localhost:8080/"
        },
        "id": "rb14o91n0nY2",
        "outputId": "8777de54-47a3-4189-8d13-c5d1e103321f"
      },
      "execution_count": 10,
      "outputs": [
        {
          "output_type": "execute_result",
          "data": {
            "text/plain": [
              "array([2, 4, 9, 8])"
            ]
          },
          "metadata": {},
          "execution_count": 10
        }
      ]
    },
    {
      "cell_type": "code",
      "source": [
        "# Create our 4 vectors in numpy:\n",
        "\n",
        "r1=np.array([3,0,3,0])\n",
        "r2=np.array([3,2,3,3])\n",
        "r3=np.array([-7,-4,-5,-6])\n",
        "r4=np.array([-7,-3,-11,2])"
      ],
      "metadata": {
        "id": "YsVgIFVG4lPy"
      },
      "execution_count": 11,
      "outputs": []
    },
    {
      "cell_type": "code",
      "source": [
        "# Process the first vector:\n",
        "# Step #1: select r1, and subtract off all the \"nice\" vecotrs:\n",
        "t1=r1\n",
        "\n",
        "t1\n",
        "\n",
        "#Step 2: Find the magnitude of t1:\n",
        "n1=np.sqrt(t1.dot(t1))\n",
        "print(\"the magnitude of t1=\", t1, \"is\", n1)\n",
        "\n",
        "#Step 3: Create the first \"nice\" vector:\n",
        "u1=(1/n1)*t1\n",
        "print(\"u1=\", u1)"
      ],
      "metadata": {
        "colab": {
          "base_uri": "https://localhost:8080/"
        },
        "id": "1U7gVZAV5DID",
        "outputId": "a0600d28-195e-4253-b2fb-8813b0e93cd2"
      },
      "execution_count": 14,
      "outputs": [
        {
          "output_type": "stream",
          "name": "stdout",
          "text": [
            "the magnitude of t1= [3 0 3 0] is 4.242640687119285\n",
            "u1= [0.70710678 0.         0.70710678 0.        ]\n"
          ]
        }
      ]
    },
    {
      "cell_type": "code",
      "source": [
        "#Let's check reasonableness of u1:\n",
        "#Does u1 have size 1?\n",
        "print(\"the size of u1 is\", np.sqrt(u1.dot(u1)))\n",
        "\n",
        "#Is u1 orthogonal to all the other u's?"
      ],
      "metadata": {
        "colab": {
          "base_uri": "https://localhost:8080/"
        },
        "id": "7oEXXEZ96ASc",
        "outputId": "2404085c-7ec4-4835-eb33-fb1d6f4245d5"
      },
      "execution_count": 15,
      "outputs": [
        {
          "output_type": "stream",
          "name": "stdout",
          "text": [
            "the size of u1 is 1.0\n"
          ]
        }
      ]
    },
    {
      "cell_type": "code",
      "source": [
        "# Process the second vector:\n",
        "# Step #1: select r2, and subtract off all the \"nice\" vecotrs:\n",
        "t2=r2-(r2.dot(u1))*u1\n",
        "\n",
        "t2\n",
        "\n",
        "#Step 2: Find the magnitude of t1:\n",
        "n2=np.sqrt(t2.dot(t2))\n",
        "print(\"the magnitude of t2=\", t2, \"is\", n2)\n",
        "\n",
        "#Step 3: Create the first \"nice\" vector:\n",
        "u2=(1/n2)*t2\n",
        "print(\"u2=\", u2)"
      ],
      "metadata": {
        "colab": {
          "base_uri": "https://localhost:8080/"
        },
        "id": "4AQi5Y9N6p98",
        "outputId": "af03447e-7f47-436b-ca83-a0762accafb9"
      },
      "execution_count": 16,
      "outputs": [
        {
          "output_type": "stream",
          "name": "stdout",
          "text": [
            "the magnitude of t2= [-4.4408921e-16  2.0000000e+00 -4.4408921e-16  3.0000000e+00] is 3.605551275463989\n",
            "u2= [-1.23168186e-16  5.54700196e-01 -1.23168186e-16  8.32050294e-01]\n"
          ]
        }
      ]
    },
    {
      "cell_type": "code",
      "source": [
        "#Let's check reasonableness of u2:\n",
        "#Does u2 have size 1?\n",
        "print(\"the size of u2 is\", np.sqrt(u2.dot(u2)))\n",
        "\n",
        "#Is u1 orthogonal to all the other u's?\n",
        "print(\"Is u2 orthogonal to u1?\", u2.dot(u1))"
      ],
      "metadata": {
        "colab": {
          "base_uri": "https://localhost:8080/"
        },
        "id": "DFkSMWNC7SQQ",
        "outputId": "2294dd1a-1f33-4008-9d12-b55dfa54480a"
      },
      "execution_count": 17,
      "outputs": [
        {
          "output_type": "stream",
          "name": "stdout",
          "text": [
            "the size of u2 is 1.0\n",
            "Is u2 orthogonal to u1? -1.741861189847285e-16\n"
          ]
        }
      ]
    },
    {
      "cell_type": "code",
      "source": [
        "# Process the third vector:\n",
        "# Step #1: select r3, and subtract off all the \"nice\" vecotrs:\n",
        "t3=r3-(r3.dot(u2))*u2-(r3.dot(u1))*u1\n",
        "\n",
        "t3\n",
        "\n",
        "#Step 2: Find the magnitude of t3:\n",
        "n3=np.sqrt(t3.dot(t3))\n",
        "print(\"the magnitude of t3=\", t3, \"is\", n3)\n",
        "\n",
        "#Step 3: Create the first \"nice\" vector:\n",
        "u3=(1/n3)*t3\n",
        "print(\"u3=\", u3)"
      ],
      "metadata": {
        "colab": {
          "base_uri": "https://localhost:8080/"
        },
        "id": "0pNsw6o87GHI",
        "outputId": "1d4cfb97-769a-40b3-f752-890c49ca9951"
      },
      "execution_count": 19,
      "outputs": [
        {
          "output_type": "stream",
          "name": "stdout",
          "text": [
            "the magnitude of t3= [-1.0000000e+00 -4.4408921e-16  1.0000000e+00 -8.8817842e-16] is 1.4142135623730951\n",
            "u3= [-7.07106781e-01 -3.14018492e-16  7.07106781e-01 -6.28036983e-16]\n"
          ]
        }
      ]
    }
  ]
}